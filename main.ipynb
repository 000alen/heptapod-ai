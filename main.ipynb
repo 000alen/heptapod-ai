{
 "cells": [
  {
   "cell_type": "code",
   "execution_count": null,
   "metadata": {},
   "outputs": [],
   "source": [
    "%pip install langchain\n",
    "%pip install unstructured\n",
    "%pip install \"unstructured[pdf]\"\n",
    "%pip install faiss-cpu\n",
    "%pip install tqdm"
   ]
  },
  {
   "cell_type": "code",
   "execution_count": 25,
   "metadata": {},
   "outputs": [
    {
     "data": {
      "text/plain": [
       "True"
      ]
     },
     "execution_count": 25,
     "metadata": {},
     "output_type": "execute_result"
    }
   ],
   "source": [
    "from langchain.vectorstores import FAISS\n",
    "from langchain.document_loaders import DirectoryLoader\n",
    "from langchain.embeddings.openai import OpenAIEmbeddings\n",
    "from langchain.text_splitter import RecursiveCharacterTextSplitter\n",
    "from langchain.chat_models import ChatOpenAI\n",
    "from langchain.retrievers.multi_query import MultiQueryRetriever\n",
    "\n",
    "from langchain.agents import initialize_agent, Tool\n",
    "from langchain.agents import AgentType\n",
    "\n",
    "from dotenv import load_dotenv\n",
    "load_dotenv()"
   ]
  },
  {
   "cell_type": "code",
   "execution_count": 26,
   "metadata": {},
   "outputs": [
    {
     "name": "stderr",
     "output_type": "stream",
     "text": [
      "100%|██████████| 1/1 [00:13<00:00, 13.14s/it]\n"
     ]
    }
   ],
   "source": [
    "loader = DirectoryLoader(\n",
    "    \"sources/\",\n",
    "    show_progress=True\n",
    ")\n",
    "data = loader.load()"
   ]
  },
  {
   "cell_type": "code",
   "execution_count": 27,
   "metadata": {},
   "outputs": [],
   "source": [
    "text_splitter = RecursiveCharacterTextSplitter(chunk_size=2000, chunk_overlap=200)\n",
    "splits = text_splitter.split_documents(data)"
   ]
  },
  {
   "cell_type": "code",
   "execution_count": 28,
   "metadata": {},
   "outputs": [],
   "source": [
    "embedding = OpenAIEmbeddings()\n"
   ]
  },
  {
   "cell_type": "code",
   "execution_count": 29,
   "metadata": {},
   "outputs": [],
   "source": [
    "store = FAISS.from_documents(\n",
    "    documents=splits, \n",
    "    embedding=embedding\n",
    ")\n",
    "store.save_local(\"store\")"
   ]
  },
  {
   "cell_type": "code",
   "execution_count": 17,
   "metadata": {},
   "outputs": [],
   "source": [
    "store = FAISS.load_local(\"store\", embeddings=embedding)"
   ]
  },
  {
   "cell_type": "code",
   "execution_count": 35,
   "metadata": {},
   "outputs": [],
   "source": [
    "llm = ChatOpenAI(temperature=0, model=\"gpt-4\")\n",
    "retriever = MultiQueryRetriever.from_llm(\n",
    "    retriever=store.as_retriever(), llm=llm\n",
    ")"
   ]
  },
  {
   "cell_type": "code",
   "execution_count": 36,
   "metadata": {},
   "outputs": [],
   "source": [
    "_retriever_func_k = 10\n",
    "\n",
    "\n",
    "def retriever_func(query: str) -> str:\n",
    "    documents = retriever.get_relevant_documents(query, top_k=_retriever_func_k)\n",
    "    documents = [\n",
    "        (document.metadata[\"source\"], document.page_content.replace(\"\\n\", \" \"))\n",
    "        for document in documents\n",
    "    ]\n",
    "    return \"\\n\\n\".join(\n",
    "        f'# Source: {source}\\n\\n{content}' for source, content in documents\n",
    "    )"
   ]
  },
  {
   "cell_type": "code",
   "execution_count": 37,
   "metadata": {},
   "outputs": [],
   "source": [
    "tools = [\n",
    "    Tool(\n",
    "        name=\"Minerva Student Handbook QA System\",\n",
    "        func=retriever_func,\n",
    "        description=\"useful for when you need to answer questions about the Minerva student handbook. Input should be a fully formed question.\",\n",
    "    )\n",
    "]"
   ]
  },
  {
   "cell_type": "code",
   "execution_count": 38,
   "metadata": {},
   "outputs": [],
   "source": [
    "agent = initialize_agent(\n",
    "    tools, llm, agent=AgentType.ZERO_SHOT_REACT_DESCRIPTION, verbose=True\n",
    ")"
   ]
  },
  {
   "cell_type": "code",
   "execution_count": 40,
   "metadata": {},
   "outputs": [
    {
     "name": "stdout",
     "output_type": "stream",
     "text": [
      "\n",
      "\n",
      "\u001b[1m> Entering new AgentExecutor chain...\u001b[0m\n",
      "\u001b[32;1m\u001b[1;3mThis question is about a specific policy in the Minerva student handbook. I should use the Minerva Student Handbook QA System to find the answer.\n",
      "Action: Minerva Student Handbook QA System\n",
      "Action Input: What is the penalty for vaping in the residence hall?\u001b[0m\n",
      "Observation: \u001b[36;1m\u001b[1;3m# Source: sources/Final Student Handbook Sept 14.pdf\n",
      "\n",
      "Any student caught smoking, vaping, or possessing smoking apparatus or paraphernalia in any area of Minerva-leased properties will be charged $250 per occasion and may be subject to removal for continued violations.  5.5.1. Definitions  Smoking is deﬁned as inhaling, exhaling, burning, vaping, carrying or possessing any lighted cigarette, cigar, pipe, electronic cigarette that creates a vapor, hookah or other lit product and including the use of any substance, including but not limited to tobacco, cloves or marijuana. Illegal drugs include all forms of cannabis, including in amounts and forms otherwise permitted by California law in non-campus locations.  5.5.2. Accountability  The success of this policy depends on the thoughtfulness, consideration, and cooperation of all members of the Minerva community. All students, faculty, and staﬀ share in the responsibility for adhering to and enforcing this policy. Refusal by students, faculty, or staﬀ to comply with this policy may result in appropriate disciplinary action. Visitors who refuse to comply will be asked to leave should they persist.  Minerva University is accredited by the Western Association of Schools and Colleges (WASC).  55  Students are prohibited from soliciting funds from members of the Minerva faculty and staff for any purpose without the express written permission of the a Student Life Global Director or theDean of Students. This applies to fundraising for individual students or group activities and events of any kind.  5.8. Social Media and Community Messaging Outlet Policies  The use of social media is governed by the Student Code of Conduct and federal and state laws. Students are responsible for their own use of social media and messaging outlets, which may or may not be monitored or regulated. It is up to each user and participant in a virtual discussion to regulate content that is added or shared with the community.  Within these general guidelines, students are prohibited as follows:\n",
      "\n",
      "# Source: sources/Final Student Handbook Sept 14.pdf\n",
      "\n",
      "The use of illegal drugs is prohibited. This includes hallucinogens, cannabis, barbiturates, amphetamines, narcotics, and prescription and controlled drugs, except as expressly permitted by law. Students may not possess, use, distribute, sell, or manufacture illegal drugs.  Minerva believes that it is the personal responsibility of each student to call for medical assistance for themselves or for any other member of the community in the event of an alcohol or drug related  Minerva University is accredited by the Western Association of Schools and Colleges (WASC).  54  5.5. Smoking Policy  Minerva is committed to providing a safe, healthy and productive work environment for all students, faculty, staﬀ and visitors. Consistent with this commitment, and in compliance with federal, state, and local regulations, Minerva remains smoke and drug free. Smoking and/or the use of all illegal drugs, including cannabis (marijuana) is prohibited in all indoor and outdoor facilities on Minerva leased property with no exception, including within vehicles parked on those properties. This policy applies to all students, faculty, staﬀ, and other persons on campus, regardless of the purpose for their visit, and to all Minerva leased facilities and vehicles.  Smoking is prohibited in any facility leased by Minerva, regardless of location. ● Smoking is prohibited within 25 feet of an area that surrounds Minerva leased facilities, including entrances, exits, mechanical system air intake structures, public and common areas for such facilities.  Smoking is prohibited in any facility leased by Minerva, regardless of location. ● Smoking is prohibited within 25 feet of an area that surrounds Minerva leased facilities, including entrances, exits, mechanical system air intake structures, public and common areas for such facilities.\n",
      "\n",
      "# Source: sources/Final Student Handbook Sept 14.pdf\n",
      "\n",
      "5.14.1.3. Minerva Housing Unit Changes Resident students may not move from their unit to another without prior written consent from Minerva, and consent may be withheld in Minerva’s sole discretion. Changing units in violation of this requirement will result in a $150 ﬁne and the student will be required to move back to the assigned unit (established policy found in Residential Agreements).  5.14.1.4. Smoke-Free Zones Minerva leased properties are 100% smoke-free. Any student caught smoking, vaping, or possessing smoking apparatus or paraphernalia in any area of Minerva properties will be automatically charged  Minerva University is accredited by the Western Association of Schools and Colleges (WASC).  70  $250 per occasion and may be subject to removal for continued violations (established policy found in Residential Agreements).  5.14.1.5. Fire Safety Candles and incense are strictly prohibited in all Minerva buildings, even if such items are unlit or being used for decorative purpose(s) only. The burning of anything, including candles, paper, and incense will incur a $200 ﬁne.  Misuse of ﬁre safety equipment (such as ﬁre alarms, external metal ﬁre escapes and internal ﬁre stair cases accessible from particular units) or Building equipment (elevators) may result in ﬁnes or discipline for repeat oﬀenses. As noted in Restricted Building Access Points, use of ﬁre escapes and ﬁre staircases, except in the event of ﬁre, will result in a minimum ﬁne of $300, and each time thereafter, with increasing ﬁnes and the second instance triggering disciplinary proceedings. In addition, such student(s) will pay the cost of any maintenance visit by a ﬁre escape contractor, if needed, to return stairs to their prior condition. Intentional use of a ﬁre alarm to issue a false alarm is subject to a $500 ﬁne (or the actual cost, if higher, of the local Fire Department response).\n",
      "\n",
      "# Source: sources/Final Student Handbook Sept 14.pdf\n",
      "\n",
      "failure to honor conﬁdentiality in a work-study or internship placement  d. possession of a weapon. e. violations related to residence halls include changing rooms or roommates without  permission, failing to comply with room or roommate reassignments, violating the policy on guests, having prohibited items in the residence hall, damaging the residence hall or property in a residence hall, making loud or disruptive noise during quiet hours, allowing a non-resident to enter the building of a closed-access residence, and any other conduct covered by the residential agreement or Minerva policy. These matters may be  Minerva University is accredited by the Western Association of Schools and Colleges (WASC).  53  3.  Interference with academic activities: Intentionally or negligently interfering with academic activities. For this purpose, academic activities include, but are not limited to studying, teaching, research, advising, administration, judicial proceedings; and such administrative operations as security, safety, ﬁre, police, or health emergency activities.  4. Failure to respond or comply with reasonable instructions from Minerva staﬀ and faculty. Students are expected to comply with:  4. Failure to respond or comply with reasonable instructions from Minerva staﬀ and faculty. Students are expected to comply with:  a.  requests for communication and/or meetings with faculty and staﬀ and it is the responsibility of each student to respond to such requests and to manage their correspondence and availability in a timely manner.  b. sanctions and reasonable mandates or restrictions given by Minerva staﬀ and faculty.  5. Damage or destruction of property: Prohibited are the intentional destruction, theft of, or damage to Minerva property or the property of Minerva faculty, staﬀ or students, as well as to the property of Minerva partners in the rotation cities, including housing providers.\n",
      "\n",
      "# Source: sources/Final Student Handbook Sept 14.pdf\n",
      "\n",
      "5.10.2. Sanctions  Any one or more of the following sanctions may be imposed on a student who is found responsible for a violation:  1. Restitution: Reimbursement by the student to Minerva, the complainant(s), and/or a member of the Minerva community to cover the cost of damage to property or other loss.  2. Fine: A monetary penalty assessed as appropriate to the violation. 3. Service Hours: A deﬁned number of work hours the student must complete, either in the residence hall or in another appropriate location.  2. Fine: A monetary penalty assessed as appropriate to the violation. 3. Service Hours: A deﬁned number of work hours the student must complete, either in the residence hall or in another appropriate location.  4. Educational Program/Project: Programs and activities designed to help the student become more aware of conduct policies and understand the inappropriateness of the student’s behavior, including, but not limited to, participation in an educational program. 5. Loss of Privilege(s): Denial of speciﬁc privilege(s) for a deﬁned period of time. Privileges include, but are not limited to participation in co-curricular and extracurricular activities and events such as social events, student organizations and activities, and student government; loss of services and support and access; loss of ﬁnancial aid; and loss of the privilege of living in a residence hall or participating in the global rotation. 6. Restricted Access: Conditions which speciﬁcally dictate and limit the student’s\n",
      "\n",
      "# Source: sources/Final Student Handbook Sept 14.pdf\n",
      "\n",
      "5.14. Consequences for Noncompliance with Requirements  In addition to the usual fees set forth in the section on Financial Information and the disciplinary sanctions noted above, the following ﬁnes and fees may be imposed on students who fail to meet important requirements and deadlines. Most fees or ﬁnes are imposed because a student has either failed to meet a requirement and/or failed to communicate regarding requirements established in the Prepare process, the Enrollment and Housing Commitment, the Student Handbook, pre-departure materials, Residential Agreements, and other published policies. Fines may be imposed for additional policy violations and increased for multiple oﬀenses. Fines may also be coupled with the imposition of another sanction, like oﬃcial warnings, account holds, suspension or expulsion.  5.14.1 Fees and Fines for Noncompliance  The following is not an exhaustive list. Other ﬁnes, fees or consequences may ﬂow from student conduct that does not meet published policies.  5.14.1.1. Not attending essential Foundation Week/Elevation sessions or make-up session Foundation Week and Elevation dates are published far enough in advance for all students to plan accordingly. Make-up work will never be the same as being in attendance. Therefore, students who do not attend Foundation Week or Elevation are required to attend make-up sessions and/or do make-up work on material that was missed to demonstrate that they understand the essential material. Should a student fail to complete this, the student will receive an account hold and be unable to gain access to the next Prepare process until doing so.  5.14.1.2. Attempted Subletting or Assignment of Minerva Housing Unit Residents may not sublet their unit or assign it to another party. Residents who engage in such conduct will be subject to disciplinary action and a $300 ﬁne (established policy found in Residential Agreements).\u001b[0m\n",
      "Thought:\u001b[32;1m\u001b[1;3mThe handbook clearly states that any student caught vaping in the residence hall will be charged $250 per occasion. If the behavior continues, the student may also be subject to removal.\n",
      "Final Answer: If you're caught vaping in the residence hall, you will have to pay a fine of $250 per occasion. Continued violations may lead to removal from the residence hall.\u001b[0m\n",
      "\n",
      "\u001b[1m> Finished chain.\u001b[0m\n"
     ]
    },
    {
     "data": {
      "text/plain": [
       "\"If you're caught vaping in the residence hall, you will have to pay a fine of $250 per occasion. Continued violations may lead to removal from the residence hall.\""
      ]
     },
     "execution_count": 40,
     "metadata": {},
     "output_type": "execute_result"
    }
   ],
   "source": [
    "agent.run(\n",
    "    \"How much will I have to pay if I'm caught vaping in the residence hall?\"\n",
    ")"
   ]
  },
  {
   "cell_type": "code",
   "execution_count": null,
   "metadata": {},
   "outputs": [],
   "source": [
    "\"If you're caught vaping in the residence hall, you will have to pay a fine of $250 per occasion. Continued violations may lead to removal from the residence hall.\""
   ]
  }
 ],
 "metadata": {
  "kernelspec": {
   "display_name": "heptapod_ai",
   "language": "python",
   "name": "python3"
  },
  "language_info": {
   "codemirror_mode": {
    "name": "ipython",
    "version": 3
   },
   "file_extension": ".py",
   "mimetype": "text/x-python",
   "name": "python",
   "nbconvert_exporter": "python",
   "pygments_lexer": "ipython3",
   "version": "3.11.3"
  },
  "orig_nbformat": 4
 },
 "nbformat": 4,
 "nbformat_minor": 2
}
